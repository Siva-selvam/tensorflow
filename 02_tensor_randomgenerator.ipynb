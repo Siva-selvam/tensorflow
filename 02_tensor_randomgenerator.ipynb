{
  "nbformat": 4,
  "nbformat_minor": 0,
  "metadata": {
    "colab": {
      "name": "02_tensor_randomgenerator.ipynb",
      "provenance": [],
      "collapsed_sections": [],
      "authorship_tag": "ABX9TyNfUp3onB/Zq/Wjv9UPa3sa",
      "include_colab_link": true
    },
    "kernelspec": {
      "name": "python3",
      "display_name": "Python 3"
    },
    "language_info": {
      "name": "python"
    }
  },
  "cells": [
    {
      "cell_type": "markdown",
      "metadata": {
        "id": "view-in-github",
        "colab_type": "text"
      },
      "source": [
        "<a href=\"https://colab.research.google.com/github/Siva-selvam/tensorflow/blob/main/02_tensor_randomgenerator.ipynb\" target=\"_parent\"><img src=\"https://colab.research.google.com/assets/colab-badge.svg\" alt=\"Open In Colab\"/></a>"
      ]
    },
    {
      "cell_type": "markdown",
      "metadata": {
        "id": "APG798pzXWdt"
      },
      "source": [
        "##Random generator"
      ]
    },
    {
      "cell_type": "code",
      "metadata": {
        "id": "Eu9nr8LIKGYF"
      },
      "source": [
        "import tensorflow as tf"
      ],
      "execution_count": 2,
      "outputs": []
    },
    {
      "cell_type": "code",
      "metadata": {
        "id": "dskemgQiKL3B"
      },
      "source": [
        "#create two random tensors of same values\n",
        "random_1 = tf.random.Generator.from_seed(11)   #set seed for the reproduceability of the same\n",
        "random_1 = random_1.normal(shape=(3,2))\n",
        "random_2 = tf.random.Generator.from_seed(11)\n",
        "random_2 = random_2.normal(shape=(3,2))"
      ],
      "execution_count": 5,
      "outputs": []
    },
    {
      "cell_type": "code",
      "metadata": {
        "colab": {
          "base_uri": "https://localhost:8080/"
        },
        "id": "LR4OB1j5LuRg",
        "outputId": "54c62e5c-be6c-43cb-93d5-92c9eb11e839"
      },
      "source": [
        "#checking if both are equal\n",
        "random_1, random_2, random_1==random_2"
      ],
      "execution_count": 6,
      "outputs": [
        {
          "output_type": "execute_result",
          "data": {
            "text/plain": [
              "(<tf.Tensor: shape=(3, 2), dtype=float32, numpy=\n",
              " array([[ 0.27305737, -0.29925638],\n",
              "        [-0.3652325 ,  0.61883307],\n",
              "        [-1.0130816 ,  0.28291714]], dtype=float32)>,\n",
              " <tf.Tensor: shape=(3, 2), dtype=float32, numpy=\n",
              " array([[ 0.27305737, -0.29925638],\n",
              "        [-0.3652325 ,  0.61883307],\n",
              "        [-1.0130816 ,  0.28291714]], dtype=float32)>,\n",
              " <tf.Tensor: shape=(3, 2), dtype=bool, numpy=\n",
              " array([[ True,  True],\n",
              "        [ True,  True],\n",
              "        [ True,  True]])>)"
            ]
          },
          "metadata": {},
          "execution_count": 6
        }
      ]
    },
    {
      "cell_type": "markdown",
      "metadata": {
        "id": "yuqj6gBdP9XI"
      },
      "source": [
        "## Shuffle the tensors"
      ]
    },
    {
      "cell_type": "code",
      "metadata": {
        "colab": {
          "base_uri": "https://localhost:8080/"
        },
        "id": "VkGOGvUZP5CI",
        "outputId": "aba3ec98-4d52-4c37-af03-7f49eab7c6aa"
      },
      "source": [
        "tensor1 = tf.constant([[4,5],[6,7],[3,1],[1,1]])\n",
        "tf.random.shuffle(tensor1)"
      ],
      "execution_count": 12,
      "outputs": [
        {
          "output_type": "execute_result",
          "data": {
            "text/plain": [
              "<tf.Tensor: shape=(4, 2), dtype=int32, numpy=\n",
              "array([[6, 7],\n",
              "       [1, 1],\n",
              "       [4, 5],\n",
              "       [3, 1]], dtype=int32)>"
            ]
          },
          "metadata": {},
          "execution_count": 12
        }
      ]
    },
    {
      "cell_type": "code",
      "metadata": {
        "colab": {
          "base_uri": "https://localhost:8080/"
        },
        "id": "CC6MY-keQwet",
        "outputId": "982d0084-b416-4ec8-b397-41334ea7cd91"
      },
      "source": [
        "tf.random.set_seed(11) #global seed\n",
        "tf.random.shuffle(tensor1,seed=11) #operational seed - both must be set orelse it will take as random seed"
      ],
      "execution_count": 26,
      "outputs": [
        {
          "output_type": "execute_result",
          "data": {
            "text/plain": [
              "<tf.Tensor: shape=(4, 2), dtype=int32, numpy=\n",
              "array([[1, 1],\n",
              "       [4, 5],\n",
              "       [6, 7],\n",
              "       [3, 1]], dtype=int32)>"
            ]
          },
          "metadata": {},
          "execution_count": 26
        }
      ]
    }
  ]
}