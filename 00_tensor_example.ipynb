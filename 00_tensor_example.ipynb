{
  "nbformat": 4,
  "nbformat_minor": 0,
  "metadata": {
    "colab": {
      "name": "00_tensor_example.ipynb",
      "provenance": [],
      "authorship_tag": "ABX9TyNu+SqG4WItevXtbenzEyTN",
      "include_colab_link": true
    },
    "kernelspec": {
      "name": "python3",
      "display_name": "Python 3"
    },
    "language_info": {
      "name": "python"
    }
  },
  "cells": [
    {
      "cell_type": "markdown",
      "metadata": {
        "id": "view-in-github",
        "colab_type": "text"
      },
      "source": [
        "<a href=\"https://colab.research.google.com/github/Siva-selvam/MachineLearning_theory/blob/main/00_tensor_example.ipynb\" target=\"_parent\"><img src=\"https://colab.research.google.com/assets/colab-badge.svg\" alt=\"Open In Colab\"/></a>"
      ]
    },
    {
      "cell_type": "code",
      "metadata": {
        "id": "_Cy4meGeoXMk"
      },
      "source": [
        "import tensorflow as tf"
      ],
      "execution_count": 2,
      "outputs": []
    },
    {
      "cell_type": "code",
      "metadata": {
        "colab": {
          "base_uri": "https://localhost:8080/"
        },
        "id": "8wLQDb20ptVq",
        "outputId": "5d76f538-4448-4a59-c037-2c70aa23d615"
      },
      "source": [
        "scalar = tf.constant(7)\n",
        "scalar.ndim"
      ],
      "execution_count": 8,
      "outputs": [
        {
          "output_type": "execute_result",
          "data": {
            "text/plain": [
              "0"
            ]
          },
          "metadata": {},
          "execution_count": 8
        }
      ]
    },
    {
      "cell_type": "code",
      "metadata": {
        "colab": {
          "base_uri": "https://localhost:8080/"
        },
        "id": "UlLn2Jmrp5_9",
        "outputId": "42ed8ceb-e0d0-41d1-ff90-88311cabe4d8"
      },
      "source": [
        "vector = tf.constant([2,1])\n",
        "vector\n",
        "vector.ndim"
      ],
      "execution_count": 7,
      "outputs": [
        {
          "output_type": "execute_result",
          "data": {
            "text/plain": [
              "1"
            ]
          },
          "metadata": {},
          "execution_count": 7
        }
      ]
    },
    {
      "cell_type": "code",
      "metadata": {
        "id": "pqbbHoGvqGa_",
        "outputId": "5d46b5c6-0ba4-4d49-dce3-d37a78bc43e0",
        "colab": {
          "base_uri": "https://localhost:8080/"
        }
      },
      "source": [
        "matrix = tf.constant([[2,1],[3,2]])\n",
        "matrix.ndim"
      ],
      "execution_count": 9,
      "outputs": [
        {
          "output_type": "execute_result",
          "data": {
            "text/plain": [
              "2"
            ]
          },
          "metadata": {},
          "execution_count": 9
        }
      ]
    },
    {
      "cell_type": "code",
      "metadata": {
        "id": "V1GAXznpqTsp",
        "outputId": "df367a9a-d675-46eb-8697-b14a805c1f88",
        "colab": {
          "base_uri": "https://localhost:8080/"
        }
      },
      "source": [
        "tensor = tf.constant([[[1,2],[2,3]],[[2,1],[3,2]]])\n",
        "tensor.ndim"
      ],
      "execution_count": 11,
      "outputs": [
        {
          "output_type": "execute_result",
          "data": {
            "text/plain": [
              "3"
            ]
          },
          "metadata": {},
          "execution_count": 11
        }
      ]
    },
    {
      "cell_type": "markdown",
      "metadata": {
        "id": "6CV3aLHJqyvg"
      },
      "source": [
        "scalar = contains a single value -0 dim\n",
        "vector = contains a value having a direction - 1 dim\n",
        "matrix - having rows and columns , 2 dim array of number\n",
        "tensor - having a n dimensional array of numbers"
      ]
    }
  ]
}